{
 "cells": [
  {
   "cell_type": "markdown",
   "metadata": {},
   "source": [
    "Predicting Rental Prices in New York"
   ]
  },
  {
   "cell_type": "code",
   "execution_count": 1,
   "metadata": {},
   "outputs": [],
   "source": [
    "import pandas as pd\n",
    "import numpy as np\n",
    "\n",
    "import matplotlib.pyplot as plt\n",
    "import seaborn as sns\n",
    "sns.set_style('darkgrid')\n",
    "\n",
    "import data_cleaning as dc\n",
    "from sklearn import metrics\n",
    "%matplotlib inline\n",
    "\n",
    "from statsmodels.formula.api import ols\n",
    "from statsmodels.stats.outliers_influence import variance_inflation_factor\n",
    "import statsmodels.api as sm\n",
    "import scipy.stats as stats\n",
    "from sklearn.model_selection import train_test_split\n",
    "\n",
    "%matplotlib inline\n",
    "%load_ext autoreload\n",
    "%autoreload"
   ]
  },
  {
   "cell_type": "code",
   "execution_count": 2,
   "metadata": {},
   "outputs": [],
   "source": [
    "df = dc.products_df()\n",
    "cat = dc.cat_df()\n",
    "con = dc.con_df()"
   ]
  },
  {
   "cell_type": "code",
   "execution_count": 3,
   "metadata": {},
   "outputs": [
    {
     "data": {
      "text/plain": [
       "[]"
      ]
     },
     "execution_count": 3,
     "metadata": {},
     "output_type": "execute_result"
    }
   ],
   "source": [
    "dc.cat_df2()"
   ]
  },
  {
   "cell_type": "code",
   "execution_count": null,
   "metadata": {},
   "outputs": [],
   "source": [
    "from sklearn.metrics import mean_squared_error, mean_squared_log_error\n",
    "from sklearn.linear_model import LinearRegression\n",
    "from sklearn.preprocessing import Imputer\n",
    "\n",
    "# Impute missing values with median using Imputer from sklearn.preprocessing\n",
    "impute = Imputer(strategy='median')\n",
    "impute.fit(X_train_cont)\n",
    "\n",
    "X_train_imputed = impute.transform(X_train_cont)\n",
    "\n",
    "# Fit the model and print R2 and MSE for train and test\n",
    "linreg = LinearRegression()\n",
    "linreg.fit(X_train_imputed, y_train)\n",
    "\n",
    "print('Training r^2:', linreg.score(X_train_imputed, y_train))\n",
    "print('Training MSE:', mean_squared_error(y_train, linreg.predict(X_train_imputed)))"
   ]
  },
  {
   "cell_type": "code",
   "execution_count": null,
   "metadata": {},
   "outputs": [],
   "source": [
    "from sklearn.preprocessing import StandardScaler\n",
    "\n",
    "# Scale the train and test data\n",
    "ss = StandardScaler()\n",
    "ss.fit(X_train_imputed)\n",
    "\n",
    "X_train_imputed_scaled = ss.transform(X_train_imputed)"
   ]
  },
  {
   "cell_type": "code",
   "execution_count": null,
   "metadata": {},
   "outputs": [],
   "source": [
    "linreg_norm = LinearRegression()\n",
    "linreg_norm.fit(X_train_imputed_scaled, y_train)\n",
    "\n",
    "print('Training r^2:', linreg_norm.score(X_train_imputed_scaled, y_train))\n",
    "print('Training MSE:', mean_squared_error(y_train, linreg_norm.predict(X_train_imputed_scaled)))"
   ]
  },
  {
   "cell_type": "code",
   "execution_count": null,
   "metadata": {},
   "outputs": [],
   "source": [
    "# Create X_cat which contains only the categorical variables\n",
    "X_train_cat = X_train.loc[:, cat_features]\n",
    "\n",
    "#Fill nans with a value indicating that that it is missing\n",
    "X_train_cat.fillna(value='missing', inplace=True)"
   ]
  },
  {
   "cell_type": "code",
   "execution_count": null,
   "metadata": {},
   "outputs": [],
   "source": [
    "# # Create X and y then split in train and test\n",
    "# features = [col for col in df.columns if col != 'review_score']\n",
    "# X = df_cat.loc[:, features]\n",
    "# y = df.loc[:, 'review_score']\n",
    "\n",
    "# X_train, X_test, y_train, y_test = train_test_split(X, y, random_state=10)\n",
    "\n",
    "# #Create X test and X train from continuous variables\n",
    "# X_train_cat = X_train.loc[:, cont_features]\n",
    "# X_test_cat = X_test.loc[:, cont_features]"
   ]
  },
  {
   "cell_type": "code",
   "execution_count": null,
   "metadata": {},
   "outputs": [],
   "source": [
    "from sklearn.preprocessing import OneHotEncoder\n",
    "\n",
    "# OneHotEncode Categorical variables\n",
    "ohe = OneHotEncoder()\n",
    "X_train_ohe = ohe.fit_transform(X_train_cat)\n",
    "\n",
    "columns = ohe.get_feature_names(input_features=X_train_cat.columns)\n",
    "cat_train_df = pd.DataFrame(X_train_ohe.todense(), columns=columns)"
   ]
  },
  {
   "cell_type": "code",
   "execution_count": null,
   "metadata": {},
   "outputs": [],
   "source": [
    "X_train_all = pd.concat([pd.DataFrame(X_train_imputed_scaled), cat_train_df], axis = 1)"
   ]
  },
  {
   "cell_type": "code",
   "execution_count": null,
   "metadata": {},
   "outputs": [],
   "source": [
    "linreg_all = LinearRegression()\n",
    "linreg_all.fit(X_train_all, y_train)\n",
    "\n",
    "print('Training r^2:', linreg_all.score(X_train_all, y_train))\n",
    "print('Training MSE:', mean_squared_error(y_train, linreg_all.predict(X_train_all)))"
   ]
  },
  {
   "cell_type": "markdown",
   "metadata": {},
   "source": [
    "Next Steps:\n",
    "- Data Cleaning / Proper Join\n",
    "- Ridge / Lasso / Elastic\n",
    "- Lamdba / Alpha\n",
    "- Feature re-selection if low R2 after cleaning\n",
    "- Cross-validation\n",
    "- Test Data!"
   ]
  },
  {
   "cell_type": "code",
   "execution_count": null,
   "metadata": {},
   "outputs": [],
   "source": [
    "alphas = [0.05,0.5,0.1,0.01]\n",
    "\n",
    "from sklearn.linear_model import Ridge\n",
    "\n",
    "def ridge(list):\n",
    "    for x in list:\n",
    "        # Train model setting alpha (lambda) to 0.05\n",
    "        ridge = Ridge(alpha=x, normalize=True)\n",
    "        #Fit Ridge model to training data\n",
    "        ridge.fit(X_train_all, y_train)\n",
    "        y_predict_ridge = ridge.predict(X_train_all)\n",
    "        # Calculate R^2 and mse\n",
    "        print('Training r^2:',ridge.score(X_train_all, y_train))\n",
    "        print('Training MSE:',mean_squared_error(y_train,y_predict_ridge))\n",
    "        \n",
    "ridge(alphas)"
   ]
  },
  {
   "cell_type": "code",
   "execution_count": null,
   "metadata": {},
   "outputs": [],
   "source": [
    "df.head()"
   ]
  },
  {
   "cell_type": "code",
   "execution_count": null,
   "metadata": {},
   "outputs": [],
   "source": [
    "df.corr()"
   ]
  },
  {
   "cell_type": "code",
   "execution_count": null,
   "metadata": {},
   "outputs": [],
   "source": [
    "from sklearn.linear_model import Lasso\n",
    "lasso = Lasso(alpha=0.9, normalize=True)\n",
    "lasso.fit(X_train_all, y_train)\n",
    "y_predict_lasso = lasso.predict(X_train_all)\n",
    "# calculating mse\n",
    "print('Training MSE:',mean_squared_error(y_train,y_predict_lasso))\n",
    "print('Training r^2:',lasso.score(X_train_all, y_train))"
   ]
  },
  {
   "cell_type": "code",
   "execution_count": null,
   "metadata": {},
   "outputs": [],
   "source": [
    "from sklearn.linear_model import ElasticNet\n",
    "\n",
    "elastic = ElasticNet(alpha=0.05, l1_ratio=0.5, normalize=False)\n",
    "elastic.fit(X_train_all,y_train)\n",
    "y_predict_elastic = elastic.predict(X_train_all)\n",
    "#calculating mse\n",
    "print('Training MSE:', mean_squared_error(y_train, y_predict_elastic))\n",
    "print('Training r^2:', elastic.score(X_train_all,y_train))"
   ]
  }
 ],
 "metadata": {
  "kernelspec": {
   "display_name": "Python 3",
   "language": "python",
   "name": "python3"
  },
  "language_info": {
   "codemirror_mode": {
    "name": "ipython",
    "version": 3
   },
   "file_extension": ".py",
   "mimetype": "text/x-python",
   "name": "python",
   "nbconvert_exporter": "python",
   "pygments_lexer": "ipython3",
   "version": "3.7.3"
  }
 },
 "nbformat": 4,
 "nbformat_minor": 2
}
