{
 "cells": [
  {
   "cell_type": "markdown",
   "metadata": {},
   "source": [
    "Predicting Rental Prices in New York"
   ]
  },
  {
   "cell_type": "code",
   "execution_count": 10,
   "metadata": {},
   "outputs": [
    {
     "name": "stdout",
     "output_type": "stream",
     "text": [
      "The autoreload extension is already loaded. To reload it, use:\n",
      "  %reload_ext autoreload\n"
     ]
    }
   ],
   "source": [
    "import pandas as pd\n",
    "import numpy as np\n",
    "\n",
    "import matplotlib.pyplot as plt\n",
    "import seaborn as sns\n",
    "sns.set_style('darkgrid')\n",
    "\n",
    "import data_cleaning as dc\n",
    "from sklearn import metrics\n",
    "%matplotlib inline\n",
    "\n",
    "from statsmodels.formula.api import ols\n",
    "from statsmodels.stats.outliers_influence import variance_inflation_factor\n",
    "import statsmodels.api as sm\n",
    "import scipy.stats as stats\n",
    "from sklearn.model_selection import train_test_split\n",
    "\n",
    "%matplotlib inline\n",
    "%load_ext autoreload\n",
    "%autoreload"
   ]
  },
  {
   "cell_type": "code",
   "execution_count": 7,
   "metadata": {},
   "outputs": [],
   "source": [
    "cont_features = []\n",
    "\n",
    "for colname, coltype in df.dtypes.iteritems():\n",
    "    if coltype in [np.float64, np.int64]:\n",
    "        cont_features.append(colname)\n",
    "\n",
    "cat_features = []\n",
    "for colname, coltype in df.dtypes.iteritems():\n",
    "    if coltype in [np.object]:\n",
    "        cat_features.append(colname)"
   ]
  },
  {
   "cell_type": "code",
   "execution_count": 8,
   "metadata": {},
   "outputs": [],
   "source": [
    "df = dc.products_df()\n",
    "df_cat = dc.cat_df()\n",
    "df_con = dc.con_df()"
   ]
  },
  {
   "cell_type": "code",
   "execution_count": 9,
   "metadata": {},
   "outputs": [],
   "source": [
    "# Create X and y then split in train and test\n",
    "features = [col for col in df.columns if col != 'review_score']\n",
    "X = df_con.loc[:, features]\n",
    "y = df.loc[:, 'review_score']\n",
    "\n",
    "X_train, X_test, y_train, y_test = train_test_split(X, y, random_state=10)\n",
    "\n",
    "#Create X test and X train from continuous variables\n",
    "X_train_cont = X_train.loc[:, cont_features]"
   ]
  },
  {
   "cell_type": "code",
   "execution_count": 10,
   "metadata": {},
   "outputs": [
    {
     "name": "stderr",
     "output_type": "stream",
     "text": [
      "//anaconda3/lib/python3.7/site-packages/sklearn/utils/deprecation.py:66: DeprecationWarning: Class Imputer is deprecated; Imputer was deprecated in version 0.20 and will be removed in 0.22. Import impute.SimpleImputer from sklearn instead.\n",
      "  warnings.warn(msg, category=DeprecationWarning)\n"
     ]
    },
    {
     "name": "stdout",
     "output_type": "stream",
     "text": [
      "Training r^2: 0.017510362913710775\n",
      "Training MSE: 1.8097080914181378\n"
     ]
    }
   ],
   "source": [
    "from sklearn.metrics import mean_squared_error, mean_squared_log_error\n",
    "from sklearn.linear_model import LinearRegression\n",
    "from sklearn.preprocessing import Imputer\n",
    "\n",
    "# Impute missing values with median using Imputer from sklearn.preprocessing\n",
    "impute = Imputer(strategy='median')\n",
    "impute.fit(X_train_cont)\n",
    "\n",
    "X_train_imputed = impute.transform(X_train_cont)\n",
    "\n",
    "# Fit the model and print R2 and MSE for train and test\n",
    "linreg = LinearRegression()\n",
    "linreg.fit(X_train_imputed, y_train)\n",
    "\n",
    "print('Training r^2:', linreg.score(X_train_imputed, y_train))\n",
    "print('Training MSE:', mean_squared_error(y_train, linreg.predict(X_train_imputed)))"
   ]
  },
  {
   "cell_type": "code",
   "execution_count": 11,
   "metadata": {},
   "outputs": [],
   "source": [
    "from sklearn.preprocessing import StandardScaler\n",
    "\n",
    "# Scale the train and test data\n",
    "ss = StandardScaler()\n",
    "ss.fit(X_train_imputed)\n",
    "\n",
    "X_train_imputed_scaled = ss.transform(X_train_imputed)"
   ]
  },
  {
   "cell_type": "code",
   "execution_count": 12,
   "metadata": {},
   "outputs": [
    {
     "name": "stdout",
     "output_type": "stream",
     "text": [
      "Training r^2: 0.017510362913710775\n",
      "Training MSE: 1.8097080914181378\n"
     ]
    }
   ],
   "source": [
    "linreg_norm = LinearRegression()\n",
    "linreg_norm.fit(X_train_imputed_scaled, y_train)\n",
    "\n",
    "print('Training r^2:', linreg_norm.score(X_train_imputed_scaled, y_train))\n",
    "print('Training MSE:', mean_squared_error(y_train, linreg_norm.predict(X_train_imputed_scaled)))"
   ]
  },
  {
   "cell_type": "code",
   "execution_count": 13,
   "metadata": {},
   "outputs": [],
   "source": [
    "# Create X_cat which contains only the categorical variables\n",
    "X_train_cat = X_train.loc[:, cat_features]\n",
    "\n",
    "#Fill nans with a value indicating that that it is missing\n",
    "X_train_cat.fillna(value='missing', inplace=True)"
   ]
  },
  {
   "cell_type": "code",
   "execution_count": 14,
   "metadata": {},
   "outputs": [],
   "source": [
    "# # Create X and y then split in train and test\n",
    "# features = [col for col in df.columns if col != 'review_score']\n",
    "# X = df_cat.loc[:, features]\n",
    "# y = df.loc[:, 'review_score']\n",
    "\n",
    "# X_train, X_test, y_train, y_test = train_test_split(X, y, random_state=10)\n",
    "\n",
    "# #Create X test and X train from continuous variables\n",
    "# X_train_cat = X_train.loc[:, cont_features]\n",
    "# X_test_cat = X_test.loc[:, cont_features]"
   ]
  },
  {
   "cell_type": "code",
   "execution_count": 15,
   "metadata": {},
   "outputs": [],
   "source": [
    "from sklearn.preprocessing import OneHotEncoder\n",
    "\n",
    "# OneHotEncode Categorical variables\n",
    "ohe = OneHotEncoder()\n",
    "X_train_ohe = ohe.fit_transform(X_train_cat)\n",
    "\n",
    "columns = ohe.get_feature_names(input_features=X_train_cat.columns)\n",
    "cat_train_df = pd.DataFrame(X_train_ohe.todense(), columns=columns)"
   ]
  },
  {
   "cell_type": "code",
   "execution_count": 16,
   "metadata": {},
   "outputs": [],
   "source": [
    "X_train_all = pd.concat([pd.DataFrame(X_train_imputed_scaled), cat_train_df], axis = 1)"
   ]
  },
  {
   "cell_type": "code",
   "execution_count": 17,
   "metadata": {},
   "outputs": [
    {
     "name": "stdout",
     "output_type": "stream",
     "text": [
      "Training r^2: 0.017510362913710775\n",
      "Training MSE: 1.8097080914181378\n"
     ]
    }
   ],
   "source": [
    "linreg_all = LinearRegression()\n",
    "linreg_all.fit(X_train_all, y_train)\n",
    "\n",
    "print('Training r^2:', linreg_all.score(X_train_all, y_train))\n",
    "print('Training MSE:', mean_squared_error(y_train, linreg_all.predict(X_train_all)))"
   ]
  },
  {
   "cell_type": "markdown",
   "metadata": {},
   "source": [
    "Next Steps:\n",
    "- Data Cleaning / Proper Join\n",
    "- Ridge / Lasso / Elastic\n",
    "- Lamdba / Alpha\n",
    "- Feature re-selection if low R2 after cleaning\n",
    "- Cross-validation\n",
    "- Test Data!"
   ]
  },
  {
   "cell_type": "code",
   "execution_count": 18,
   "metadata": {},
   "outputs": [
    {
     "name": "stdout",
     "output_type": "stream",
     "text": [
      "Training r^2: 0.0171554290678132\n",
      "Training MSE: 1.8103618658994076\n",
      "Training r^2: 0.011318376429541921\n",
      "Training MSE: 1.8211134921667749\n",
      "Training r^2: 0.016449626696593778\n",
      "Training MSE: 1.8116619266979377\n",
      "Training r^2: 0.017491777213240467\n",
      "Training MSE: 1.8097423255629634\n"
     ]
    }
   ],
   "source": [
    "alphas = [0.05,0.5,0.1,0.01]\n",
    "\n",
    "from sklearn.linear_model import Ridge\n",
    "\n",
    "def ridge(list):\n",
    "    for x in list:\n",
    "        # Train model setting alpha (lambda) to 0.05\n",
    "        ridge = Ridge(alpha=x, normalize=True)\n",
    "        #Fit Ridge model to training data\n",
    "        ridge.fit(X_train_all, y_train)\n",
    "        y_predict_ridge = ridge.predict(X_train_all)\n",
    "        # Calculate R^2 and mse\n",
    "        print('Training r^2:',ridge.score(X_train_all, y_train))\n",
    "        print('Training MSE:',mean_squared_error(y_train,y_predict_ridge))\n",
    "        \n",
    "ridge(alphas)"
   ]
  },
  {
   "cell_type": "code",
   "execution_count": 21,
   "metadata": {},
   "outputs": [
    {
     "name": "stdout",
     "output_type": "stream",
     "text": [
      "Training MSE: 1.8419615058588108\n",
      "Training r^2: 0.0\n"
     ]
    }
   ],
   "source": [
    "from sklearn.linear_model import Lasso\n",
    "lasso = Lasso(alpha=0.9, normalize=True)\n",
    "lasso.fit(X_train_all, y_train)\n",
    "y_predict_lasso = lasso.predict(X_train_all)\n",
    "# calculating mse\n",
    "print('Training MSE:',mean_squared_error(y_train,y_predict_lasso))\n",
    "print('Training r^2:',lasso.score(X_train_all, y_train))"
   ]
  },
  {
   "cell_type": "code",
   "execution_count": 22,
   "metadata": {},
   "outputs": [
    {
     "name": "stdout",
     "output_type": "stream",
     "text": [
      "Training MSE: 1.8180722870165749\n",
      "Training r^2: 0.01296944521709631\n"
     ]
    }
   ],
   "source": [
    "from sklearn.linear_model import ElasticNet\n",
    "\n",
    "elastic = ElasticNet(alpha=0.05, l1_ratio=0.5, normalize=False)\n",
    "elastic.fit(X_train_all,y_train)\n",
    "y_predict_elastic = elastic.predict(X_train_all)\n",
    "#calculating mse\n",
    "print('Training MSE:', mean_squared_error(y_train, y_predict_elastic))\n",
    "print('Training r^2:', elastic.score(X_train_all,y_train))"
   ]
  },
  {
   "cell_type": "code",
   "execution_count": null,
   "metadata": {},
   "outputs": [],
   "source": []
  }
 ],
 "metadata": {
  "kernelspec": {
   "display_name": "Python 3",
   "language": "python",
   "name": "python3"
  },
  "language_info": {
   "codemirror_mode": {
    "name": "ipython",
    "version": 3
   },
   "file_extension": ".py",
   "mimetype": "text/x-python",
   "name": "python",
   "nbconvert_exporter": "python",
   "pygments_lexer": "ipython3",
   "version": "3.7.3"
  }
 },
 "nbformat": 4,
 "nbformat_minor": 2
}
