{
 "cells": [
  {
   "cell_type": "code",
   "execution_count": 3,
   "metadata": {},
   "outputs": [],
   "source": [
    "import pandas as pd\n",
    "import numpy as np\n",
    "import datetime\n",
    "\n",
    "import matplotlib.pyplot as plt\n",
    "import seaborn as sns\n",
    "sns.set_style('darkgrid')\n",
    "\n",
    "import data_cleaning as dc\n",
    "from sklearn import metrics\n",
    "%matplotlib inline\n",
    "\n",
    "from statsmodels.formula.api import ols\n",
    "from statsmodels.stats.outliers_influence import variance_inflation_factor\n",
    "import statsmodels.api as sm\n",
    "import scipy.stats as stats\n",
    "from sklearn.model_selection import train_test_split"
   ]
  },
  {
   "cell_type": "code",
   "execution_count": 4,
   "metadata": {},
   "outputs": [],
   "source": [
    "df_orders = pd.read_csv('data/olist_orders_dataset.csv')\n",
    "df_order_pay = pd.read_csv('data/olist_order_payments_dataset.csv')\n",
    "df_order_rev = pd.read_csv('data/olist_order_reviews_dataset.csv')\n",
    "df_customers = pd.read_csv('data/olist_customers_dataset.csv')\n",
    "df_order_items = pd.read_csv('data/olist_order_items_dataset.csv')\n",
    "df_products = pd.read_csv('data/olist_products_dataset.csv')\n",
    "df_trans = pd.read_csv('data/product_category_name_translation.csv')\n",
    "df_geo = pd.read_csv('data/olist_geolocation_dataset.csv')\n",
    "df_sellers = pd.read_csv('data/olist_sellers_dataset.csv')"
   ]
  },
  {
   "cell_type": "code",
   "execution_count": 5,
   "metadata": {},
   "outputs": [
    {
     "name": "stdout",
     "output_type": "stream",
     "text": [
      "<class 'pandas.core.frame.DataFrame'>\n",
      "RangeIndex: 116581 entries, 0 to 116580\n",
      "Data columns (total 40 columns):\n",
      "order_id                         116581 non-null object\n",
      "customer_id                      116581 non-null object\n",
      "order_status                     116581 non-null object\n",
      "order_purchase_timestamp         116581 non-null object\n",
      "order_approved_at                116567 non-null object\n",
      "order_delivered_carrier_date     115368 non-null object\n",
      "order_delivered_customer_date    114066 non-null object\n",
      "order_estimated_delivery_date    116581 non-null object\n",
      "payment_sequential               116581 non-null int64\n",
      "payment_type                     116581 non-null object\n",
      "payment_installments             116581 non-null int64\n",
      "payment_value                    116581 non-null float64\n",
      "review_id                        116581 non-null object\n",
      "review_score                     116581 non-null int64\n",
      "review_comment_title             13996 non-null object\n",
      "review_comment_message           49878 non-null object\n",
      "review_creation_date             116581 non-null object\n",
      "review_answer_timestamp          116581 non-null object\n",
      "customer_unique_id               116581 non-null object\n",
      "customer_zip_code_prefix         116581 non-null int64\n",
      "customer_city                    116581 non-null object\n",
      "customer_state                   116581 non-null object\n",
      "order_item_id                    116581 non-null int64\n",
      "product_id                       116581 non-null object\n",
      "seller_id                        116581 non-null object\n",
      "shipping_limit_date              116581 non-null object\n",
      "price                            116581 non-null float64\n",
      "freight_value                    116581 non-null float64\n",
      "product_category_name            116581 non-null object\n",
      "product_name_lenght              116581 non-null float64\n",
      "product_description_lenght       116581 non-null float64\n",
      "product_photos_qty               116581 non-null float64\n",
      "product_weight_g                 116580 non-null float64\n",
      "product_length_cm                116580 non-null float64\n",
      "product_height_cm                116580 non-null float64\n",
      "product_width_cm                 116580 non-null float64\n",
      "product_category_name_english    116581 non-null object\n",
      "seller_zip_code_prefix           116581 non-null int64\n",
      "seller_city                      116581 non-null object\n",
      "seller_state                     116581 non-null object\n",
      "dtypes: float64(10), int64(6), object(24)\n",
      "memory usage: 35.6+ MB\n"
     ]
    }
   ],
   "source": [
    "from pandasql import sqldf\n",
    "pysqldf = lambda q: sqldf(q, globals())\n",
    "\n",
    "q = \"\"\"SELECT *\n",
    "         FROM\n",
    "        df_orders\n",
    "        JOIN \n",
    "        df_order_pay\n",
    "        USING (order_id)\n",
    "        JOIN \n",
    "        df_order_rev\n",
    "        USING (order_id)\n",
    "        JOIN\n",
    "        df_customers\n",
    "        USING(customer_id)\n",
    "        JOIN\n",
    "        df_order_items\n",
    "        USING(order_id)\n",
    "        JOIN\n",
    "        df_products\n",
    "        USING(product_id)\n",
    "        JOIN\n",
    "        df_trans\n",
    "        USING(product_category_name)\n",
    "        JOIN\n",
    "        df_sellers\n",
    "        USING(seller_id)\n",
    "        \"\"\"\n",
    "    \n",
    "results = pysqldf(q)\n",
    "df = pd.DataFrame(results)\n",
    "df.info()"
   ]
  },
  {
   "cell_type": "code",
   "execution_count": 6,
   "metadata": {},
   "outputs": [],
   "source": [
    "df.to_csv('./data/products_full.csv',index=True)"
   ]
  },
  {
   "cell_type": "code",
   "execution_count": null,
   "metadata": {},
   "outputs": [],
   "source": [
    "df.columns"
   ]
  },
  {
   "cell_type": "code",
   "execution_count": null,
   "metadata": {},
   "outputs": [],
   "source": [
    "from pandasql import sqldf\n",
    "pysqldf = lambda q: sqldf(q, globals())\n",
    "\n",
    "q = \"\"\"SELECT *\n",
    "         FROM\n",
    "        df_procucts\n",
    "        JOIN \n",
    "        \n",
    "        USING (product_id)\n",
    "        \"\"\"\n",
    "    \n",
    "results = pysqldf(q)\n",
    "df_12 = pd.DataFrame(results)\n",
    "df_12"
   ]
  }
 ],
 "metadata": {
  "kernelspec": {
   "display_name": "Python 3",
   "language": "python",
   "name": "python3"
  },
  "language_info": {
   "codemirror_mode": {
    "name": "ipython",
    "version": 3
   },
   "file_extension": ".py",
   "mimetype": "text/x-python",
   "name": "python",
   "nbconvert_exporter": "python",
   "pygments_lexer": "ipython3",
   "version": "3.7.3"
  }
 },
 "nbformat": 4,
 "nbformat_minor": 2
}
